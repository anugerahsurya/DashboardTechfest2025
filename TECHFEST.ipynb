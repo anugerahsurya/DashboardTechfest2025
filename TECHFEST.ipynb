{
 "cells": [
  {
   "cell_type": "markdown",
   "id": "ba45d7cb",
   "metadata": {},
   "source": [
    "## Import Library"
   ]
  },
  {
   "cell_type": "code",
   "execution_count": 2,
   "id": "24643233",
   "metadata": {},
   "outputs": [],
   "source": [
    "import pandas as pd\n",
    "import numpy as np\n",
    "import matplotlib.pyplot as plt\n",
    "import seaborn as sns\n",
    "from scipy.stats import ttest_rel"
   ]
  },
  {
   "cell_type": "markdown",
   "id": "dd83f295",
   "metadata": {},
   "source": [
    "## Memuat Data"
   ]
  },
  {
   "cell_type": "code",
   "execution_count": 3,
   "id": "dad7b150",
   "metadata": {},
   "outputs": [],
   "source": [
    "data = pd.read_excel(\"Dataset Lomba Data Analytics TECHFEST 2025.xlsx\")\n",
    "data_clean = data[~data.apply(lambda row: row.astype(str).str.strip().str.lower().eq(\"null\")).any(axis=1)]"
   ]
  },
  {
   "cell_type": "code",
   "execution_count": 4,
   "id": "e4c1b2ea",
   "metadata": {},
   "outputs": [
    {
     "name": "stdout",
     "output_type": "stream",
     "text": [
      "<class 'pandas.core.frame.DataFrame'>\n",
      "Index: 33 entries, 0 to 37\n",
      "Data columns (total 10 columns):\n",
      " #   Column                                                          Non-Null Count  Dtype  \n",
      "---  ------                                                          --------------  -----  \n",
      " 0   Provinsi                                                        33 non-null     object \n",
      " 1   IPM                                                             33 non-null     float64\n",
      " 2   Pagu TKDD                                                       33 non-null     float64\n",
      " 3   Realisasi TKDD                                                  33 non-null     float64\n",
      " 4   Jumlah Penduduk                                                 33 non-null     float64\n",
      " 5   Anggaran APBN per kapita                                        33 non-null     float64\n",
      " 6   Persentase Penduduk Miskin                                      33 non-null     float64\n",
      " 7   Produk Domestik Regional Bruto (PDRB) Atas Dasar Harga Berlaku  33 non-null     float64\n",
      " 8   Produk Domestik Regional Bruto per Kapita HB                    33 non-null     int64  \n",
      " 9   Laju Pertumbuhan PDRB atas dasar konstan 2010                   33 non-null     float64\n",
      "dtypes: float64(8), int64(1), object(1)\n",
      "memory usage: 2.8+ KB\n"
     ]
    }
   ],
   "source": [
    "data_clean.dropna().info()"
   ]
  },
  {
   "cell_type": "markdown",
   "id": "8d29d752",
   "metadata": {},
   "source": [
    "## 01. Analisis Perbandingan Pagu dan Realisasi TKDD"
   ]
  },
  {
   "cell_type": "code",
   "execution_count": 5,
   "id": "1332e457",
   "metadata": {},
   "outputs": [],
   "source": [
    "def bandingkanTKDD(data, kolom_pagu='Pagu TKDD', kolom_realisasi='Realisasi TKDD'):\n",
    "    # Pastikan hanya baris yang tidak null\n",
    "    df = data[[kolom_pagu, kolom_realisasi]].dropna()\n",
    "\n",
    "    # Plot Clustered Bar Chart\n",
    "    plt.figure(figsize=(12, 6))\n",
    "    index = range(len(df))\n",
    "    bar_width = 0.35\n",
    "\n",
    "    plt.bar([i - bar_width/2 for i in index], df[kolom_pagu], width=bar_width, label='Pagu TKDD')\n",
    "    plt.bar([i + bar_width/2 for i in index], df[kolom_realisasi], width=bar_width, label='Realisasi TKDD')\n",
    "\n",
    "    plt.xlabel('Indeks Data')\n",
    "    plt.ylabel('Nilai')\n",
    "    plt.title('Perbandingan Pagu dan Realisasi TKDD')\n",
    "    plt.legend()\n",
    "    plt.tight_layout()\n",
    "    plt.show()\n",
    "\n",
    "    # Uji t Berpasangan\n",
    "    t_stat, p_value = ttest_rel(df[kolom_pagu], df[kolom_realisasi])\n",
    "\n",
    "    print(\"\\n📊 Hasil Uji t Berpasangan:\")\n",
    "    print(f\"Statistik t: {t_stat:.4f}\")\n",
    "    print(f\"p-value: {p_value:.4f}\")\n",
    "    if p_value < 0.05:\n",
    "        print(\"❗Terdapat perbedaan signifikan antara Pagu dan Realisasi TKDD (p < 0.05).\")\n",
    "    else:\n",
    "        print(\"✅ Tidak terdapat perbedaan signifikan antara Pagu dan Realisasi TKDD (p ≥ 0.05).\")\n"
   ]
  },
  {
   "cell_type": "code",
   "execution_count": 6,
   "id": "2e5194ff",
   "metadata": {},
   "outputs": [
    {
     "data": {
      "image/png": "[encoded data removed]",
      "text/plain": [
       "<Figure size 1200x600 with 1 Axes>"
      ]
     },
     "metadata": {},
     "output_type": "display_data"
    },
    {
     "name": "stdout",
     "output_type": "stream",
     "text": [
      "\n",
      "📊 Hasil Uji t Berpasangan:\n",
      "Statistik t: -1.9521\n",
      "p-value: 0.0587\n",
      "✅ Tidak terdapat perbedaan signifikan antara Pagu dan Realisasi TKDD (p ≥ 0.05).\n"
     ]
    }
   ],
   "source": [
    "bandingkanTKDD(data_clean)"
   ]
  },
  {
   "cell_type": "markdown",
   "id": "0cb65006",
   "metadata": {},
   "source": [
    "## 02. Perhitungan Persentase Realisasi TKDD"
   ]
  },
  {
   "cell_type": "code",
   "execution_count": 7,
   "id": "829ec173",
   "metadata": {},
   "outputs": [],
   "source": [
    "def hitungPersentaseRealisasi(\n",
    "    data,\n",
    "    kolom_pagu='Pagu TKDD',\n",
    "    kolom_realisasi='Realisasi TKDD',\n",
    "    kolom_persen='Persentase Realisasi',\n",
    "    kolom_klasifikasi='Klasifikasi Realisasi'\n",
    "):\n",
    "    df = data.copy()\n",
    "\n",
    "    # Hindari pembagian nol\n",
    "    df = df[df[kolom_pagu] != 0]\n",
    "\n",
    "    # Hitung persentase realisasi\n",
    "    df[kolom_persen] = (df[kolom_realisasi] / df[kolom_pagu]) * 100\n",
    "\n",
    "    # Klasifikasi berdasarkan persentase\n",
    "    def klasifikasi(persen):\n",
    "        if persen < 90:\n",
    "            return 'Di Bawah Target'\n",
    "        elif persen <= 100:\n",
    "            return 'Sesuai Target'\n",
    "        else:\n",
    "            return 'Melebihi Target'\n",
    "\n",
    "    df[kolom_klasifikasi] = df[kolom_persen].apply(klasifikasi)\n",
    "\n",
    "    return df"
   ]
  },
  {
   "cell_type": "code",
   "execution_count": 8,
   "id": "fff6d30d",
   "metadata": {},
   "outputs": [],
   "source": [
    "data = hitungPersentaseRealisasi(data_clean)"
   ]
  },
  {
   "cell_type": "code",
   "execution_count": 27,
   "id": "d4f16524",
   "metadata": {},
   "outputs": [],
   "source": [
    "def buatTabelFrekuensi(data, kolom_klasifikasi='Klasifikasi Realisasi'):\n",
    "    frekuensi = data[kolom_klasifikasi].value_counts().reset_index()\n",
    "    frekuensi.columns = ['Kategori', 'Jumlah']\n",
    "    frekuensi['Persentase'] = (frekuensi['Jumlah'] / frekuensi['Jumlah'].sum()) * 100\n",
    "    return frekuensi\n"
   ]
  },
  {
   "cell_type": "code",
   "execution_count": 28,
   "id": "bb9014be",
   "metadata": {},
   "outputs": [],
   "source": [
    "frekuensi = buatTabelFrekuensi(data)"
   ]
  },
  {
   "cell_type": "code",
   "execution_count": 29,
   "id": "68014d69",
   "metadata": {},
   "outputs": [
    {
     "data": {
      "text/html": [
       "<div>\n",
       "<style scoped>\n",
       "    .dataframe tbody tr th:only-of-type {\n",
       "        vertical-align: middle;\n",
       "    }\n",
       "\n",
       "    .dataframe tbody tr th {\n",
       "        vertical-align: top;\n",
       "    }\n",
       "\n",
       "    .dataframe thead th {\n",
       "        text-align: right;\n",
       "    }\n",
       "</style>\n",
       "<table border=\"1\" class=\"dataframe\">\n",
       "  <thead>\n",
       "    <tr style=\"text-align: right;\">\n",
       "      <th></th>\n",
       "      <th>Kategori</th>\n",
       "      <th>Jumlah</th>\n",
       "      <th>Persentase</th>\n",
       "    </tr>\n",
       "  </thead>\n",
       "  <tbody>\n",
       "    <tr>\n",
       "      <th>0</th>\n",
       "      <td>Melebihi Target</td>\n",
       "      <td>20</td>\n",
       "      <td>52.631579</td>\n",
       "    </tr>\n",
       "    <tr>\n",
       "      <th>1</th>\n",
       "      <td>Sesuai Target</td>\n",
       "      <td>18</td>\n",
       "      <td>47.368421</td>\n",
       "    </tr>\n",
       "  </tbody>\n",
       "</table>\n",
       "</div>"
      ],
      "text/plain": [
       "          Kategori  Jumlah  Persentase\n",
       "0  Melebihi Target      20   52.631579\n",
       "1    Sesuai Target      18   47.368421"
      ]
     },
     "execution_count": 29,
     "metadata": {},
     "output_type": "execute_result"
    }
   ],
   "source": [
    "frekuensi"
   ]
  },
  {
   "cell_type": "code",
   "execution_count": 30,
   "id": "2047fde9",
   "metadata": {},
   "outputs": [],
   "source": [
    "dataFinal = data.dropna()"
   ]
  },
  {
   "cell_type": "markdown",
   "id": "a3ad7301",
   "metadata": {},
   "source": [
    "## 03. Identifikasi Faktor-Faktor yang Mempengaruhi Realisasi TKDD"
   ]
  },
  {
   "cell_type": "code",
   "execution_count": 31,
   "id": "b9fc29c5",
   "metadata": {},
   "outputs": [
    {
     "name": "stdout",
     "output_type": "stream",
     "text": [
      "Hasil Regresi Parameter:\n",
      "                                                       Koefisien  t-statistik  \\\n",
      "const                                              -5.358485e+08    -3.140665   \n",
      "IPM                                                -9.860275e+09    -1.280254   \n",
      "Pagu TKDD                                           1.069150e+00    62.597458   \n",
      "Jumlah Penduduk                                     5.493821e+02     0.036786   \n",
      "Anggaran APBN per kapita                           -5.411009e+04    -0.818201   \n",
      "Persentase Penduduk Miskin                         -5.511628e+10    -2.013895   \n",
      "Produk Domestik Regional Bruto (PDRB) Atas Dasa... -1.890708e+06    -4.480198   \n",
      "Produk Domestik Regional Bruto per Kapita HB        1.868021e+04     4.355250   \n",
      "Laju Pertumbuhan PDRB atas dasar konstan 2010      -2.133232e+10    -0.436959   \n",
      "\n",
      "                                                         p-value  \\\n",
      "const                                               4.295868e-03   \n",
      "IPM                                                 2.122080e-01   \n",
      "Pagu TKDD                                           5.317579e-29   \n",
      "Jumlah Penduduk                                     9.709479e-01   \n",
      "Anggaran APBN per kapita                            4.209732e-01   \n",
      "Persentase Penduduk Miskin                          5.490165e-02   \n",
      "Produk Domestik Regional Bruto (PDRB) Atas Dasa...  1.433622e-04   \n",
      "Produk Domestik Regional Bruto per Kapita HB        1.981469e-04   \n",
      "Laju Pertumbuhan PDRB atas dasar konstan 2010       6.658921e-01   \n",
      "\n",
      "                                                           Keputusan  \n",
      "const                                                     Signifikan  \n",
      "IPM                                                 Tidak Signifikan  \n",
      "Pagu TKDD                                                 Signifikan  \n",
      "Jumlah Penduduk                                     Tidak Signifikan  \n",
      "Anggaran APBN per kapita                            Tidak Signifikan  \n",
      "Persentase Penduduk Miskin                          Tidak Signifikan  \n",
      "Produk Domestik Regional Bruto (PDRB) Atas Dasa...        Signifikan  \n",
      "Produk Domestik Regional Bruto per Kapita HB              Signifikan  \n",
      "Laju Pertumbuhan PDRB atas dasar konstan 2010       Tidak Signifikan  \n",
      "\n",
      "=== Hasil Uji Simultan (F-statistik) ===\n",
      "F-statistik : 2738.3668\n",
      "p-value     : 0.0000\n",
      "Keputusan   : Signifikan\n"
     ]
    }
   ],
   "source": [
    "import pandas as pd\n",
    "import statsmodels.api as sm\n",
    "\n",
    "# Variabel dependen\n",
    "Y = dataFinal['Realisasi TKDD']\n",
    "\n",
    "# Variabel independen\n",
    "X = dataFinal[['IPM','Pagu TKDD','Jumlah Penduduk', \n",
    "               'Anggaran APBN per kapita', \n",
    "               'Persentase Penduduk Miskin',\n",
    "               'Produk Domestik Regional Bruto (PDRB) Atas Dasar Harga Berlaku',\n",
    "               'Produk Domestik Regional Bruto per Kapita HB',\n",
    "               'Laju Pertumbuhan PDRB atas dasar konstan 2010']]\n",
    "\n",
    "# Tambahkan konstanta\n",
    "X = sm.add_constant(X)\n",
    "\n",
    "# Bentuk model\n",
    "model = sm.OLS(Y, X).fit()\n",
    "\n",
    "# Buat DataFrame hasil regresi\n",
    "params_df = pd.DataFrame({\n",
    "    'Koefisien': model.params,\n",
    "    't-statistik': model.tvalues,\n",
    "    'p-value': model.pvalues\n",
    "})\n",
    "\n",
    "# Tambahkan kolom keputusan (alpha = 0.05)\n",
    "params_df['Keputusan'] = params_df['p-value'].apply(lambda p: 'Signifikan' if p < 0.05 else 'Tidak Signifikan')\n",
    "\n",
    "# Tampilkan hasil\n",
    "print(\"Hasil Regresi Parameter:\")\n",
    "print(params_df)\n",
    "\n",
    "# Uji simultan (uji F)\n",
    "f_stat = model.fvalue\n",
    "f_pvalue = model.f_pvalue\n",
    "f_keputusan = 'Signifikan' if f_pvalue < 0.05 else 'Tidak Signifikan'\n",
    "\n",
    "# Tampilkan hasil uji simultan\n",
    "print(\"\\n=== Hasil Uji Simultan (F-statistik) ===\")\n",
    "print(f\"F-statistik : {f_stat:.4f}\")\n",
    "print(f\"p-value     : {f_pvalue:.4f}\")\n",
    "print(f\"Keputusan   : {f_keputusan}\")"
   ]
  },
  {
   "cell_type": "code",
   "execution_count": 32,
   "id": "a47d7892",
   "metadata": {},
   "outputs": [
    {
     "data": {
      "text/html": [
       "<div>\n",
       "<style scoped>\n",
       "    .dataframe tbody tr th:only-of-type {\n",
       "        vertical-align: middle;\n",
       "    }\n",
       "\n",
       "    .dataframe tbody tr th {\n",
       "        vertical-align: top;\n",
       "    }\n",
       "\n",
       "    .dataframe thead th {\n",
       "        text-align: right;\n",
       "    }\n",
       "</style>\n",
       "<table border=\"1\" class=\"dataframe\">\n",
       "  <thead>\n",
       "    <tr style=\"text-align: right;\">\n",
       "      <th></th>\n",
       "      <th>Koefisien</th>\n",
       "      <th>t-statistik</th>\n",
       "      <th>p-value</th>\n",
       "      <th>Keputusan</th>\n",
       "    </tr>\n",
       "  </thead>\n",
       "  <tbody>\n",
       "    <tr>\n",
       "      <th>const</th>\n",
       "      <td>-5.358485e+08</td>\n",
       "      <td>-3.140665</td>\n",
       "      <td>4.295868e-03</td>\n",
       "      <td>Signifikan</td>\n",
       "    </tr>\n",
       "    <tr>\n",
       "      <th>IPM</th>\n",
       "      <td>-9.860275e+09</td>\n",
       "      <td>-1.280254</td>\n",
       "      <td>2.122080e-01</td>\n",
       "      <td>Tidak Signifikan</td>\n",
       "    </tr>\n",
       "    <tr>\n",
       "      <th>Pagu TKDD</th>\n",
       "      <td>1.069150e+00</td>\n",
       "      <td>62.597458</td>\n",
       "      <td>5.317579e-29</td>\n",
       "      <td>Signifikan</td>\n",
       "    </tr>\n",
       "    <tr>\n",
       "      <th>Jumlah Penduduk</th>\n",
       "      <td>5.493821e+02</td>\n",
       "      <td>0.036786</td>\n",
       "      <td>9.709479e-01</td>\n",
       "      <td>Tidak Signifikan</td>\n",
       "    </tr>\n",
       "    <tr>\n",
       "      <th>Anggaran APBN per kapita</th>\n",
       "      <td>-5.411009e+04</td>\n",
       "      <td>-0.818201</td>\n",
       "      <td>4.209732e-01</td>\n",
       "      <td>Tidak Signifikan</td>\n",
       "    </tr>\n",
       "    <tr>\n",
       "      <th>Persentase Penduduk Miskin</th>\n",
       "      <td>-5.511628e+10</td>\n",
       "      <td>-2.013895</td>\n",
       "      <td>5.490165e-02</td>\n",
       "      <td>Tidak Signifikan</td>\n",
       "    </tr>\n",
       "    <tr>\n",
       "      <th>Produk Domestik Regional Bruto (PDRB) Atas Dasar Harga Berlaku</th>\n",
       "      <td>-1.890708e+06</td>\n",
       "      <td>-4.480198</td>\n",
       "      <td>1.433622e-04</td>\n",
       "      <td>Signifikan</td>\n",
       "    </tr>\n",
       "    <tr>\n",
       "      <th>Produk Domestik Regional Bruto per Kapita HB</th>\n",
       "      <td>1.868021e+04</td>\n",
       "      <td>4.355250</td>\n",
       "      <td>1.981469e-04</td>\n",
       "      <td>Signifikan</td>\n",
       "    </tr>\n",
       "    <tr>\n",
       "      <th>Laju Pertumbuhan PDRB atas dasar konstan 2010</th>\n",
       "      <td>-2.133232e+10</td>\n",
       "      <td>-0.436959</td>\n",
       "      <td>6.658921e-01</td>\n",
       "      <td>Tidak Signifikan</td>\n",
       "    </tr>\n",
       "  </tbody>\n",
       "</table>\n",
       "</div>"
      ],
      "text/plain": [
       "                                                       Koefisien  t-statistik  \\\n",
       "const                                              -5.358485e+08    -3.140665   \n",
       "IPM                                                -9.860275e+09    -1.280254   \n",
       "Pagu TKDD                                           1.069150e+00    62.597458   \n",
       "Jumlah Penduduk                                     5.493821e+02     0.036786   \n",
       "Anggaran APBN per kapita                           -5.411009e+04    -0.818201   \n",
       "Persentase Penduduk Miskin                         -5.511628e+10    -2.013895   \n",
       "Produk Domestik Regional Bruto (PDRB) Atas Dasa... -1.890708e+06    -4.480198   \n",
       "Produk Domestik Regional Bruto per Kapita HB        1.868021e+04     4.355250   \n",
       "Laju Pertumbuhan PDRB atas dasar konstan 2010      -2.133232e+10    -0.436959   \n",
       "\n",
       "                                                         p-value  \\\n",
       "const                                               4.295868e-03   \n",
       "IPM                                                 2.122080e-01   \n",
       "Pagu TKDD                                           5.317579e-29   \n",
       "Jumlah Penduduk                                     9.709479e-01   \n",
       "Anggaran APBN per kapita                            4.209732e-01   \n",
       "Persentase Penduduk Miskin                          5.490165e-02   \n",
       "Produk Domestik Regional Bruto (PDRB) Atas Dasa...  1.433622e-04   \n",
       "Produk Domestik Regional Bruto per Kapita HB        1.981469e-04   \n",
       "Laju Pertumbuhan PDRB atas dasar konstan 2010       6.658921e-01   \n",
       "\n",
       "                                                           Keputusan  \n",
       "const                                                     Signifikan  \n",
       "IPM                                                 Tidak Signifikan  \n",
       "Pagu TKDD                                                 Signifikan  \n",
       "Jumlah Penduduk                                     Tidak Signifikan  \n",
       "Anggaran APBN per kapita                            Tidak Signifikan  \n",
       "Persentase Penduduk Miskin                          Tidak Signifikan  \n",
       "Produk Domestik Regional Bruto (PDRB) Atas Dasa...        Signifikan  \n",
       "Produk Domestik Regional Bruto per Kapita HB              Signifikan  \n",
       "Laju Pertumbuhan PDRB atas dasar konstan 2010       Tidak Signifikan  "
      ]
     },
     "execution_count": 32,
     "metadata": {},
     "output_type": "execute_result"
    }
   ],
   "source": [
    "params_df"
   ]
  },
  {
   "cell_type": "markdown",
   "id": "8c703a5d",
   "metadata": {},
   "source": [
    "## 04. Hubungan Realisasi TKDD dengan IPM"
   ]
  },
  {
   "cell_type": "code",
   "execution_count": 42,
   "id": "0b52631a",
   "metadata": {},
   "outputs": [
    {
     "name": "stdout",
     "output_type": "stream",
     "text": [
      "=== Korelasi Pearson ===\n",
      "Koefisien Korelasi: 0.1666 (p-value: 0.3541)\n",
      "\n",
      "=== Hasil Regresi Linier Sederhana (X Terdistandarisasi) ===\n",
      "Persamaan: IPM = 73.7318 + 73.7318 * Z_Realisasi_TKDD\n",
      "Koefisien Slope: 73.7318\n",
      "t-statistik    : 110.8373\n",
      "p-value        : 0.0000\n",
      "Keputusan      : Signifikan\n"
     ]
    },
    {
     "name": "stderr",
     "output_type": "stream",
     "text": [
      "/tmp/ipykernel_19679/3024702612.py:20: FutureWarning: Series.__getitem__ treating keys as positions is deprecated. In a future version, integer keys will always be treated as labels (consistent with DataFrame behavior). To access a value by position, use `ser.iloc[pos]`\n",
      "  slope = model.params[0]  # atau model.params['Realisasi TKDD'] jika nama kolom disesuaikan\n",
      "/tmp/ipykernel_19679/3024702612.py:21: FutureWarning: Series.__getitem__ treating keys as positions is deprecated. In a future version, integer keys will always be treated as labels (consistent with DataFrame behavior). To access a value by position, use `ser.iloc[pos]`\n",
      "  t_stat = model.tvalues[0]\n",
      "/tmp/ipykernel_19679/3024702612.py:22: FutureWarning: Series.__getitem__ treating keys as positions is deprecated. In a future version, integer keys will always be treated as labels (consistent with DataFrame behavior). To access a value by position, use `ser.iloc[pos]`\n",
      "  p_val = model.pvalues[0]\n"
     ]
    },
    {
     "data": {
      "image/png": "[encoded data removed]",
      "text/plain": [
       "<Figure size 800x600 with 1 Axes>"
      ]
     },
     "metadata": {},
     "output_type": "display_data"
    }
   ],
   "source": [
    "import matplotlib.pyplot as plt\n",
    "import seaborn as sns\n",
    "import scipy.stats as stats\n",
    "import statsmodels.api as sm\n",
    "\n",
    "# 1. Korelasi Pearson\n",
    "corr, pval_corr = stats.pearsonr(dataFinal['Realisasi TKDD'], dataFinal['IPM'])\n",
    "print(f\"=== Korelasi Pearson ===\")\n",
    "print(f\"Koefisien Korelasi: {corr:.4f} (p-value: {pval_corr:.4f})\\n\")\n",
    "\n",
    "# 2. Standarisasi variabel X (Realisasi TKDD)\n",
    "X_raw = dataFinal['Realisasi TKDD']\n",
    "X_std = (X_raw - X_raw.mean()) / X_raw.std()\n",
    "\n",
    "Y = dataFinal['IPM']\n",
    "X_with_const = sm.add_constant(X_std)\n",
    "model = sm.OLS(Y, X_with_const).fit()\n",
    "\n",
    "intercept = model.params['const']\n",
    "slope = model.params[0]  # atau model.params['Realisasi TKDD'] jika nama kolom disesuaikan\n",
    "t_stat = model.tvalues[0]\n",
    "p_val = model.pvalues[0]\n",
    "keputusan = 'Signifikan' if p_val < 0.05 else 'Tidak Signifikan'\n",
    "\n",
    "# 3. Tampilkan hasil regresi standar\n",
    "print(f\"=== Hasil Regresi Linier Sederhana (X Terdistandarisasi) ===\")\n",
    "print(f\"Persamaan: IPM = {intercept:.4f} + {slope:.4f} * Z_Realisasi_TKDD\")\n",
    "print(f\"Koefisien Slope: {slope:.4f}\")\n",
    "print(f\"t-statistik    : {t_stat:.4f}\")\n",
    "print(f\"p-value        : {p_val:.4f}\")\n",
    "print(f\"Keputusan      : {keputusan}\")\n",
    "\n",
    "# 4. Scatter plot (tetap pakai X asli agar plotnya bermakna)\n",
    "plt.figure(figsize=(8, 6))\n",
    "\n",
    "# Titik-titik berwarna\n",
    "sns.scatterplot(\n",
    "    data=dataFinal,\n",
    "    x='Realisasi TKDD',\n",
    "    y='IPM',\n",
    "    hue='Klasifikasi Realisasi',\n",
    "    palette={'Di Bawah Target': 'red', 'Sesuai Target': 'orange', 'Melebihi Target': 'green'},\n",
    "    s=70,\n",
    "    alpha=0.9\n",
    ")\n",
    "\n",
    "x_vals = np.linspace(X_raw.min(), X_raw.max(), 100)\n",
    "x_std_vals = (x_vals - X_raw.mean()) / X_raw.std()\n",
    "y_vals = intercept + slope * x_std_vals\n",
    "plt.plot(x_vals, y_vals, color='black', label='Regresi Linier (X distandard)')\n",
    "\n",
    "# Finalisasi plot\n",
    "plt.title('Scatter Plot: Realisasi TKDD vs IPM (dengan Regresi pada X Terstandarisasi)')\n",
    "plt.xlabel('Realisasi TKDD')\n",
    "plt.ylabel('IPM')\n",
    "plt.grid(True)\n",
    "plt.legend(title='Klasifikasi Realisasi')\n",
    "plt.tight_layout()\n",
    "plt.show()\n"
   ]
  }
 ],
 "metadata": {
  "kernelspec": {
   "display_name": "Python 3",
   "language": "python",
   "name": "python3"
  },
  "language_info": {
   "codemirror_mode": {
    "name": "ipython",
    "version": 3
   },
   "file_extension": ".py",
   "mimetype": "text/x-python",
   "name": "python",
   "nbconvert_exporter": "python",
   "pygments_lexer": "ipython3",
   "version": "3.10.12"
  }
 },
 "nbformat": 4,
 "nbformat_minor": 5
}
